{
 "cells": [
  {
   "cell_type": "code",
   "execution_count": 2,
   "metadata": {},
   "outputs": [],
   "source": [
    "import numpy as np\n"
   ]
  },
  {
   "cell_type": "markdown",
   "metadata": {},
   "source": [
    "### Formula para invertir matriz\n",
    "Vamos a necesitar invertir matrices 3x3 para esto necesitamos el determinante"
   ]
  },
  {
   "cell_type": "code",
   "execution_count": 4,
   "metadata": {},
   "outputs": [],
   "source": [
    "def det(A):\n",
    "    return A[0,0]*A[1,1]*A[2,2]+A[0,1]*A[1,2]*A[2,0]+A[0,2]*A[1,0]*A[2,1]-A[0,2]*A[1,1]*A[2,0]-A[0,1]*A[1,0]*A[2,2]-A[0,0]*A[1,2]*A[2,1]\n",
    "def inv(A):\n",
    "    return (1/det(A))*np.array([[A[1,1]*A[2,2]-A[2,1]*A[1,2],A[0,2]*A[2,1]-A[2,2]*A[0,1],A[0,1]*A[1,2]-A[1,1]*A[0,2]],[A[1,2]*A[2,0]-A[2,2]*A[1,0],A[0,0]*A[2,2]-A[2,0]*A[0,2] ,A[0,2]*A[1,0]-A[1,2]*A[0,0]], [A[1,0]*A[2,1]-A[2,0]*A[1,1] ,A[0,1]*A[2,0]-A[2,1]*A[0,0] ,A[0,0]*A[1,1]-A[1,0]*A[0,1]]])\n"
   ]
  },
  {
   "cell_type": "markdown",
   "metadata": {},
   "source": [
    "# Metodo de Newton\n",
    "Para el caso unidimensional al tomar un $u_0$ arbitrario podemos definir $u_n$\n",
    "$$u_1 = u_0 -\\frac{f(u_0)}{f'(u_0)}$$\n",
    "lo cual converge a algun $z$ raiz de la funcion. \n",
    "\n",
    "Para el caso de varias variables, digamos si queremos resolver el sistema\n",
    "$$f(x,y,z)=0  $$\n",
    "$$g(x,y,z)= 0 $$\n",
    "$$h(x,y,z)=0 $$\n",
    "tomamos $F=(f,g,h)$ y dado un $v_0$ y $J_{v_n}$ es el Jacobiano en $v_n$ inductivamente tenemos:\n",
    "$$v_{n+1} = v_n-J_{v_0}^{-1}F(v_0) $$\n",
    "lo cual converge a algun $0$ cercano a $v_0$"
   ]
  },
  {
   "cell_type": "code",
   "execution_count": 5,
   "metadata": {},
   "outputs": [],
   "source": [
    "def f(v):\n",
    "    return (1/3)*v[0]**3+v[1]\n",
    "def g(v):\n",
    "    return v[2]**2-v[1]\n",
    "def h(v):\n",
    "    return v[1]**2-v[0]*v[1]\n",
    "def F(v):\n",
    "    return np.array([f(v),g(v),h(v)])\n",
    "def fx(x,y,z):\n",
    "    return x**2\n",
    "def fy(x,y,z):\n",
    "    return 1\n",
    "def fz(x,y,z):\n",
    "    return 0\n",
    "def gx(x,y,z):\n",
    "    return -1\n",
    "def gy(x,y,z):\n",
    "    return 0\n",
    "def gz(x,y,z):\n",
    "    return 2*z\n",
    "def hx(x,y,z):\n",
    "    return -y\n",
    "def hy(x,y,z):\n",
    "    return 2*y-x\n",
    "def hz(x,y,z):\n",
    "    return 0\n",
    "def Jac(v):\n",
    "    return np.array([[fx(v[0],v[1],v[2]),fy(v[0],v[1],v[2]),fz(v[0],v[1],v[2])],[gx(v[0],v[1],v[2]),gy(v[0],v[1],v[2]),gz(v[0],v[1],v[2])],[hx(v[0],v[1],v[2]),hy(v[0],v[1],v[2]),hz(v[0],v[1],v[2])]])\n",
    "\n"
   ]
  },
  {
   "cell_type": "code",
   "execution_count": 6,
   "metadata": {},
   "outputs": [],
   "source": [
    "def Newton(v0, eps, ITERMAX):\n",
    "    \n",
    "    contador =0\n",
    "    inf=np.amax(v0)\n",
    "    v0 = np.array(v0,dtype='float64')\n",
    "    while eps < inf and contador <= ITERMAX:\n",
    "        v1=v0-np.dot(inv(Jac(v0)),F(v0))\n",
    "        contador = contador+1\n",
    "        inf=np.amax(np.abs(v1-v0))\n",
    "        v0=v1\n",
    "       \n",
    "    if eps < inf:\n",
    "        return 'Despues de '+str(ITERMAX)+' pasos el algoritmo no converge'\n",
    "        \n",
    "    return v1, contador\n"
   ]
  },
  {
   "cell_type": "markdown",
   "metadata": {},
   "source": [
    "# Metodo de la secante \n",
    "El metodo de newton asume que conocemos una expresion analitica para cada derivada parcial, la cual podemos aproximar con la siguiente formula:\n",
    "$$J_{i,j}=\\frac{\\partial F_i(x_1,...x_n)}{\\partial x_i} \\approx \\frac{f_i(x_1^n,...,x_j^{n+1},...x_n^n)-f_i(x_1^n,...,x_n^n)}{x_j^{n+1}-x_j^n}=\\hat J_{i,j}^{n+1}$$"
   ]
  },
  {
   "cell_type": "code",
   "execution_count": 7,
   "metadata": {},
   "outputs": [],
   "source": [
    "def approxJac(v1,v2):\n",
    "    a11=(f([v2[0],v1[1],v1[2]])-f(v1))/(v2[0]-v1[0])\n",
    "    a12=(f([v1[0],v2[1],v1[2]])-f(v1))/(v2[1]-v1[1])\n",
    "    a13=(f([v1[0],v1[1],v2[2]])-f(v1))/(v2[2]-v1[2])\n",
    "    a21=(g([v2[0],v1[1],v1[2]])-g(v1))/(v2[0]-v1[0])\n",
    "    a22=(g([v1[0],v2[1],v1[2]])-g(v1))/(v2[1]-v1[1])\n",
    "    a23=(g([v1[0],v1[1],v2[2]])-g(v1))/(v2[2]-v1[2])\n",
    "    a31=(h([v2[0],v1[1],v2[2]])-h(v1))/(v2[0]-v1[0])\n",
    "    a32=(h([v1[0],v2[1],v1[2]])-h(v1))/(v2[1]-v1[1])\n",
    "    a33=(h([v1[0],v1[1],v2[2]])-h(v1))/(v2[2]-v1[2])\n",
    "    \n",
    "    return np.array([[a11,a12,a13],[a21,a22,a23],[a31,a32,a33]])\n"
   ]
  },
  {
   "cell_type": "markdown",
   "metadata": {},
   "source": [
    "Una vez obtenida esta aproximacion de la secante obtenemos el algoritmo donde  dados $v_0$ y $v_1$\n",
    "\n",
    "$$v_{n+1}=v_n- \\left(\\hat J_{i,j}^{n+1}\\right)^{-1} f(v_n) $$"
   ]
  },
  {
   "cell_type": "code",
   "execution_count": 8,
   "metadata": {},
   "outputs": [],
   "source": [
    "def Secante(v0, v1, eps, ITERMAX):\n",
    "    \n",
    "    v0=np.array(v0,dtype='float64')\n",
    "    v1=np.array(v1,dtype='float64')\n",
    "    inf=np.amax(np.abs(v1-v0))\n",
    "    contador = 0\n",
    "    while eps < inf and contador <= ITERMAX:\n",
    "        J=approxJac(v0,v1)\n",
    "        v2=v1-np.dot(inv(J),F(v1))\n",
    "        v0=v1\n",
    "        v1=v2\n",
    "        inf=np.amax(np.abs(v1-v0))\n",
    "        contador = contador+1\n",
    "    if eps < inf:\n",
    "        return 'Despues de '+str(ITERMAX)+' pasos el algoritmo no converge'\n",
    "\n",
    "    return v1,contador\n",
    "\n"
   ]
  },
  {
   "cell_type": "markdown",
   "metadata": {},
   "source": [
    "# Calculos finales"
   ]
  },
  {
   "cell_type": "code",
   "execution_count": 12,
   "metadata": {},
   "outputs": [
    {
     "name": "stdout",
     "output_type": "stream",
     "text": [
      "(array([-3.44951864e-03,  2.62221296e-13,  4.26203632e-02]), 28)\n",
      "(array([-3.53443505e-02,  6.96665152e-06,  3.97576315e-03]), 16)\n"
     ]
    }
   ],
   "source": [
    "\n",
    "#el primer argumento es el vector inicial de newton. el segundo argumento es epsilon, y el tercer argumento es ITERMAX\n",
    "print(Newton([0.1,200,0.3],0.01,250))\n",
    "#el primer argumento son los dos vectores iniciales. el segundo argumento es epsilon, y el tercer argumento es ITERMAX\n",
    "print(Secante([1,2,3],[5,6,8],eps=0.01,ITERMAX=400))"
   ]
  }
 ],
 "metadata": {
  "kernelspec": {
   "display_name": "Python 3",
   "language": "python",
   "name": "python3"
  },
  "language_info": {
   "codemirror_mode": {
    "name": "ipython",
    "version": 3
   },
   "file_extension": ".py",
   "mimetype": "text/x-python",
   "name": "python",
   "nbconvert_exporter": "python",
   "pygments_lexer": "ipython3",
   "version": "3.6.4"
  }
 },
 "nbformat": 4,
 "nbformat_minor": 2
}
